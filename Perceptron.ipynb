{
  "nbformat": 4,
  "nbformat_minor": 0,
  "metadata": {
    "colab": {
      "name": "Untitled3.ipynb",
      "provenance": [],
      "authorship_tag": "ABX9TyNOtmdqiwDXkQuALOsrBDbL",
      "include_colab_link": true
    },
    "kernelspec": {
      "name": "python3",
      "display_name": "Python 3"
    }
  },
  "cells": [
    {
      "cell_type": "markdown",
      "metadata": {
        "id": "view-in-github",
        "colab_type": "text"
      },
      "source": [
        "<a href=\"https://colab.research.google.com/github/madhumithaaaaa/Intelligent-Agents-SoC/blob/master/Perceptron.ipynb\" target=\"_parent\"><img src=\"https://colab.research.google.com/assets/colab-badge.svg\" alt=\"Open In Colab\"/></a>"
      ]
    },
    {
      "cell_type": "code",
      "metadata": {
        "id": "X9lv-hrNCMJh",
        "colab_type": "code",
        "colab": {}
      },
      "source": [
        "import numpy as np\n",
        "\n",
        "class Perceptron(object):            #creating a class\n",
        "    \n",
        "    #function to initialise parameters\n",
        "    def __init__(self, no_of_inputs, epochs=2000, learning_rate=0.2):\n",
        "        self.epochs = epochs\n",
        "        self.learning_rate = learning_rate\n",
        "        self.weights = np.zeros(no_of_inputs + 1)\n",
        "    \n",
        "    #Sigmoid function which is used as activation function\n",
        "    def sigmoid(self, x):\n",
        "        return 1/(1 + np.exp(-x))\n",
        "      \n",
        "    #Sigmoid derivative (gradient descent)    \n",
        "    def sigmoid_derivative(self, x):\n",
        "        return x * (1-x)\n",
        "    \n",
        "    #prediction function while training    \n",
        "    def predict_train(self, inputs):\n",
        "        z = np.dot(inputs, self.weights[1:]) + self.weights[0]\n",
        "        activation = self.sigmoid(z)\n",
        "        return activation\n",
        "    \n",
        "    #training the machine\n",
        "    def train(self, X, y):\n",
        "        for _ in range(self.epochs):\n",
        "            prediction = self.predict_train(X)\n",
        "            error = (y_train - prediction) * self.sigmoid_derivative(prediction)\n",
        "            self.weights[1:] += self.learning_rate * np.dot(X_train.T, error)\n",
        "            self.weights[0] += self.learning_rate * np.sum(y_train-prediction, axis=0, keepdims=True)\n",
        "            \n",
        "    #to predict output of user entered inputs\n",
        "    def predict_test(self, inputs):\n",
        "        probability = self.predict_train(inputs)\n",
        "        if probability >= 0.5:\n",
        "            output = 1\n",
        "        else:\n",
        "            output = 0\n",
        "        print('Prediction- ',probability)\n",
        "        print('Output- ', output)\n",
        "        \n",
        "\n",
        "    "
      ],
      "execution_count": 0,
      "outputs": []
    },
    {
      "cell_type": "code",
      "metadata": {
        "id": "_dyVULYhCeJ8",
        "colab_type": "code",
        "colab": {
          "base_uri": "https://localhost:8080/",
          "height": 286
        },
        "outputId": "255d0110-e12f-4831-faa3-29fb9ffda17f"
      },
      "source": [
        "X_train = np.array((0, 0, 0, 1, 1, 0, 1, 1)).reshape(4,2)\n",
        "y_train = np.array([0, 1, 1, 0])\n",
        "      \n",
        "perceptron = Perceptron(2)\n",
        "perceptron.train(X_train, y_train)\n",
        "\n",
        "test_data = []\n",
        "outputs = []\n",
        "for i in range(4):\n",
        "    inputs = []\n",
        "    for i in range(2):\n",
        "        inputs.append(int(input('Enter input {}: '.format(i+1))))\n",
        "\n",
        "    X_test = np.array(inputs)\n",
        "    perceptron.predict_test(X_test)\n",
        "    test_data.append(inputs)"
      ],
      "execution_count": 3,
      "outputs": [
        {
          "output_type": "stream",
          "text": [
            "Enter input 1: 0\n",
            "Enter input 2: 0\n",
            "Prediction-  0.5\n",
            "Output-  1\n",
            "Enter input 1: 0\n",
            "Enter input 2: 1\n",
            "Prediction-  0.5\n",
            "Output-  1\n",
            "Enter input 1: 1\n",
            "Enter input 2: 0\n",
            "Prediction-  0.5\n",
            "Output-  1\n",
            "Enter input 1: 1\n",
            "Enter input 2: 1\n",
            "Prediction-  0.5\n",
            "Output-  1\n"
          ],
          "name": "stdout"
        }
      ]
    },
    {
      "cell_type": "code",
      "metadata": {
        "id": "M87RYeR3ChGO",
        "colab_type": "code",
        "colab": {}
      },
      "source": [
        ""
      ],
      "execution_count": 0,
      "outputs": []
    }
  ]
}