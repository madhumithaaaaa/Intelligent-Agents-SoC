{
  "nbformat": 4,
  "nbformat_minor": 0,
  "metadata": {
    "colab": {
      "name": "Task2.ipynb",
      "provenance": [],
      "collapsed_sections": [],
      "authorship_tag": "ABX9TyMQWhS5l7XOV3MC4Oo+eDvl",
      "include_colab_link": true
    },
    "kernelspec": {
      "name": "python3",
      "display_name": "Python 3"
    }
  },
  "cells": [
    {
      "cell_type": "markdown",
      "metadata": {
        "id": "view-in-github",
        "colab_type": "text"
      },
      "source": [
        "<a href=\"https://colab.research.google.com/github/madhumithaaaaa/Intelligent-Agents-SoC/blob/master/Task2.ipynb\" target=\"_parent\"><img src=\"https://colab.research.google.com/assets/colab-badge.svg\" alt=\"Open In Colab\"/></a>"
      ]
    },
    {
      "cell_type": "code",
      "metadata": {
        "id": "oak5VNRjlFft",
        "colab_type": "code",
        "colab": {
          "base_uri": "https://localhost:8080/",
          "height": 265
        },
        "outputId": "fc4b473e-6389-417c-c846-f2b8fed62f4a"
      },
      "source": [
        "import numpy as np\n",
        "import random\n",
        "from matplotlib import pyplot as plt\n",
        "\n",
        "def swap_random(seq):                                                            #function to select two random indices and swap elements in those indices\n",
        "    index= range(len(seq))\n",
        "    i1,i2=random.sample(index,2)                                                 #selecting two random indices\n",
        "    seq[i1],seq[i2]=seq[i2],seq[i1]                                              #swapping elements in those indices\n",
        "    \n",
        "a = [0]*1000                                                                     #list of 1000 ones\n",
        "a[600]=1                                                                         #setting value of one element to 1\n",
        "s=[0]                                                                            #creating a list to store the positions of all elements containing 1\n",
        "count=0                                                                          #initialising counter which stores no of 1s after each iteration\n",
        "\n",
        "iterations=1\n",
        "y_axis = []\n",
        "x_axis = []\n",
        "\n",
        "while count!=1000:                                                               #running the loop until all elements become 1\n",
        "    count=0\n",
        "    k=0\n",
        "    for i in range(len(a)):                                                      #storing all positions containing element 1 in list s\n",
        "        if a[i]==1:\n",
        "            s[k]=i\n",
        "            k+=1\n",
        "    for item in s:                                                               #iterating for all elements in  s                    \n",
        "        if item==999:                                                            #to ensure it doesn't go out of range\n",
        "            a[998]=1\n",
        "        elif item==0:\n",
        "            a[1]==1\n",
        "        else:                           \n",
        "            q=random.choice((item-1,item+1))                                     #randomly selecting either the previous or next position\n",
        "            a[q]=1                                                               #setting value of that position to 1\n",
        "    swap_random(a)\n",
        "    for j in range(len(a)):                                                      #counting no of 1s in list\n",
        "        if a[j]==1:\n",
        "            count+=1\n",
        "    s=[0]*count                                                                  #setting length of list s to the no of 1s present \n",
        "    y_axis.append(count)                                                         #y axis of plot contains no of 1s after the iteration\n",
        "    x_axis.append(iterations)                                                    #x-axis of plot contains iteration number\n",
        "    iterations+=1                                                                #incrementing iteration number\n",
        "\n",
        "plt.plot(x_axis, y_axis)\n",
        "plt.show()"
      ],
      "execution_count": 1,
      "outputs": [
        {
          "output_type": "display_data",
          "data": {
            "image/png": "[encoded data removed]",
            "text/plain": [
              "<Figure size 432x288 with 1 Axes>"
            ]
          },
          "metadata": {
            "tags": []
          }
        }
      ]
    }
  ]
}