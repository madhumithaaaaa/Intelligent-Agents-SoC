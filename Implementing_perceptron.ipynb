{
  "nbformat": 4,
  "nbformat_minor": 0,
  "metadata": {
    "colab": {
      "name": "Untitled2.ipynb",
      "provenance": [],
      "authorship_tag": "ABX9TyMtiNTupQsajIwO1mEVXAxF",
      "include_colab_link": true
    },
    "kernelspec": {
      "name": "python3",
      "display_name": "Python 3"
    }
  },
  "cells": [
    {
      "cell_type": "markdown",
      "metadata": {
        "id": "view-in-github",
        "colab_type": "text"
      },
      "source": [
        "<a href=\"https://colab.research.google.com/github/madhumithaaaaa/Intelligent-Agents-SoC/blob/master/Implementing_perceptron.ipynb\" target=\"_parent\"><img src=\"https://colab.research.google.com/assets/colab-badge.svg\" alt=\"Open In Colab\"/></a>"
      ]
    },
    {
      "cell_type": "code",
      "metadata": {
        "id": "3pByDijEhMXa",
        "colab_type": "code",
        "colab": {}
      },
      "source": [
        "import numpy as np\n",
        "\n",
        "class Perceptron(object):\n",
        "\n",
        "    def __init__(self, no_of_inputs, epochs=100, learning_rate=0.05):           #initialization function\n",
        "        self.epochs = epochs                                                    #sets the epoch argument to an instance variable\n",
        "        self.learning_rate = learning_rate                                      #sets the learning rate argument to an instance variable\n",
        "        self.weights = np.zeros(no_of_inputs + 1)\n",
        "           \n",
        "    def predict(self, inputs):\n",
        "        summation = np.dot(inputs, self.weights[1:]) + self.weights[0]\n",
        "        if summation > 0:\n",
        "            activation = 1\n",
        "        else:\n",
        "            activation = 0            \n",
        "        return activation\n",
        "\n",
        "    def train(self, X, y):\n",
        "        for _ in range(self.epochs):\n",
        "            for inputs, label in zip(X, y):\n",
        "                prediction = self.predict(inputs)\n",
        "                self.weights[1:] += self.learning_rate * (label - prediction) * inputs\n",
        "                self.weights[0] += self.learning_rate * (label - prediction)"
      ],
      "execution_count": 0,
      "outputs": []
    },
    {
      "cell_type": "code",
      "metadata": {
        "id": "EcS-8Zy0hRWK",
        "colab_type": "code",
        "colab": {}
      },
      "source": [
        "X_train = np.array((1, 0, 1, 0, 0, 1, 1, 1, 0, 1, 1, 1)).reshape(4,3)\n",
        "y_train = np.array([1, 0, 1, 1])\n",
        "\n",
        "perceptron = Perceptron(3)\n",
        "perceptron.train(X_train, y_train)"
      ],
      "execution_count": 0,
      "outputs": []
    },
    {
      "cell_type": "code",
      "metadata": {
        "id": "_6qs4jcCjIJL",
        "colab_type": "code",
        "colab": {
          "base_uri": "https://localhost:8080/",
          "height": 84
        },
        "outputId": "fc432271-d002-4b03-ff7d-c4f04edcea93"
      },
      "source": [
        "inputs = []\n",
        "for i in range(3):\n",
        "     inputs.append(int(input('Enter input {}: '.format(i+1))))\n",
        "\n",
        "X_test = np.array(inputs)\n",
        "perceptron.predict(X_test)"
      ],
      "execution_count": 3,
      "outputs": [
        {
          "output_type": "stream",
          "text": [
            "Enter input 1: 1\n",
            "Enter input 2: 1\n",
            "Enter input 3: 1\n"
          ],
          "name": "stdout"
        },
        {
          "output_type": "execute_result",
          "data": {
            "text/plain": [
              "1"
            ]
          },
          "metadata": {
            "tags": []
          },
          "execution_count": 3
        }
      ]
    },
    {
      "cell_type": "code",
      "metadata": {
        "id": "TFIgoxZRj30L",
        "colab_type": "code",
        "colab": {}
      },
      "source": [
        ""
      ],
      "execution_count": 0,
      "outputs": []
    }
  ]
}